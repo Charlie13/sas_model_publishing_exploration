{
 "cells": [
  {
   "cell_type": "markdown",
   "metadata": {},
   "source": [
    "## This notebook is an exploration of the SAS Astore savestate, download, upload, describe functions.\n",
    "\n",
    "The purpose of this this is to demonstrate how a model can be trained in one CAS environment and published, packaged in to another CAS environment. Details:\n",
    "* Model state saved in astore format\n",
    "* model state astore downloaded to artifact repository (or FS)\n",
    "* python program which describes the model, moves it to a 'prod' CAS environment, and packages a flask REST interface to expose this model for single record scoring.  \n",
    "\n",
    "The following code describes the analytic store in the table mycas.save. You can print all the tables that the describe action produces.\n",
    "```\n",
    "s.loadactionset('aStore')\n",
    "m=s.describe(\n",
    "     rstore='SAVE',\n",
    "     epcode=True   # use this or not?\n",
    "    )  \n",
    "print(m.Description)\n",
    "print(m.InputVariables)\n",
    "print(m.OutputVariables)\n",
    "print(m.epcode)  # use this or not?\n",
    "```\n",
    "![output of  astore.describe](astore_describe.png)\n"
   ]
  },
  {
   "cell_type": "markdown",
   "metadata": {},
   "source": [
    "### 1. Connect to a Prod Viya instance and upload the saved model state"
   ]
  },
  {
   "cell_type": "code",
   "execution_count": 43,
   "metadata": {},
   "outputs": [
    {
     "data": {
      "text/plain": [
       "CAS('localhost', 5570, 'sasdemo', protocol='cas', name='brad', session='2f6059cd-86f3-2144-97f6-a2ba0e9da420')"
      ]
     },
     "execution_count": 43,
     "metadata": {},
     "output_type": "execute_result"
    }
   ],
   "source": [
    "import swat\n",
    "import pandas as pd\n",
    "\n",
    "cashost='localhost'\n",
    "casport=5570\n",
    "deploysess = swat.CAS(hostname=cashost, port=casport,  authinfo='/home/centos/.authinfo', caslib=\"public\", name=\"brad\")\n",
    "deploysess"
   ]
  },
  {
   "cell_type": "code",
   "execution_count": 44,
   "metadata": {},
   "outputs": [
    {
     "name": "stdout",
     "output_type": "stream",
     "text": [
      "NOTE: Cloud Analytic Services made the uploaded file available as table GB_MODEL_ASTORE in caslib public.\n",
      "NOTE: The table GB_MODEL_ASTORE has been created in caslib public from binary data uploaded to Cloud Analytic Services.\n"
     ]
    }
   ],
   "source": [
    "# http://bbviya3.pre-sal.sashq-r.openstack.sas.com:8888/view/gb_model_astore.sashdat?token=94f6909cc1e6aef5dba48190e2395583bf8e73ca4009cc45\n",
    "modeltbl = deploysess.CASTable(name='gb_model_astore', caslib=\"public\")\n",
    "if not modeltbl.tableexists().exists:\n",
    "    modeltbl = deploysess.upload_file(\n",
    "        \"gb_model_astore.sashdat\", \n",
    "        casout=modeltbl)\n",
    "#castbl = deploysess.table.loadTable(path=\"gb_model_astore.sashdat\", casout={\"name\":\"gb_model_astore\",\"caslib\":\"public\"})"
   ]
  },
  {
   "cell_type": "code",
   "execution_count": 50,
   "metadata": {
    "collapsed": true
   },
   "outputs": [
    {
     "data": {
      "text/html": [
       "<div>\n",
       "<style>\n",
       "    .dataframe thead tr:only-child th {\n",
       "        text-align: right;\n",
       "    }\n",
       "\n",
       "    .dataframe thead th {\n",
       "        text-align: left;\n",
       "    }\n",
       "\n",
       "    .dataframe tbody tr th {\n",
       "        vertical-align: top;\n",
       "    }\n",
       "</style>\n",
       "<table border=\"1\" class=\"dataframe\"><caption>Selected Rows from Table GB_MODEL_ASTORE</caption>\n",
       "  <thead>\n",
       "    <tr style=\"text-align: right;\">\n",
       "      <th title=\"\"></th>\n",
       "      <th title=\"_index_\">_index_</th>\n",
       "      <th title=\"_state_\">_state_</th>\n",
       "    </tr>\n",
       "  </thead>\n",
       "  <tbody>\n",
       "    <tr>\n",
       "      <th>0</th>\n",
       "      <td>0</td>\n",
       "      <td>b'\\x18\\x1f\\x10\\x113\"\\x0033\\x01\\x021\\x013\\x01#3...</td>\n",
       "    </tr>\n",
       "  </tbody>\n",
       "</table>\n",
       "</div>"
      ],
      "text/plain": [
       "Selected Rows from Table GB_MODEL_ASTORE\n",
       "\n",
       "   _index_                                            _state_\n",
       "0        0  b'\\x18\\x1f\\x10\\x113\"\\x0033\\x01\\x021\\x013\\x01#3..."
      ]
     },
     "execution_count": 50,
     "metadata": {},
     "output_type": "execute_result"
    }
   ],
   "source": [
    "# gb_model_astore = deploysess.CASTable(castbl.tableName)\n",
    "# gb_model_astore.head()"
   ]
  },
  {
   "cell_type": "code",
   "execution_count": 48,
   "metadata": {},
   "outputs": [
    {
     "name": "stdout",
     "output_type": "stream",
     "text": [
      "NOTE: Added action set 'astore'.\n",
      "NOTE: Added action set 'decisiontree'.\n"
     ]
    },
    {
     "data": {
      "text/html": [
       "<div>\n",
       "<style>\n",
       "    .dataframe thead tr:only-child th {\n",
       "        text-align: right;\n",
       "    }\n",
       "\n",
       "    .dataframe thead th {\n",
       "        text-align: left;\n",
       "    }\n",
       "\n",
       "    .dataframe tbody tr th {\n",
       "        vertical-align: top;\n",
       "    }\n",
       "</style>\n",
       "<table border=\"1\" class=\"dataframe\"><caption>Output Variables</caption>\n",
       "  <thead>\n",
       "    <tr style=\"text-align: right;\">\n",
       "      <th title=\"\"></th>\n",
       "      <th title=\"Name\">Name</th>\n",
       "      <th title=\"Length\">Length</th>\n",
       "      <th title=\"Measurement Level\">Type</th>\n",
       "      <th title=\"Label\">Label</th>\n",
       "    </tr>\n",
       "  </thead>\n",
       "  <tbody>\n",
       "    <tr>\n",
       "      <th>0</th>\n",
       "      <td>P_BAD1</td>\n",
       "      <td>8.0</td>\n",
       "      <td>Num</td>\n",
       "      <td>Predicted: BAD=1</td>\n",
       "    </tr>\n",
       "    <tr>\n",
       "      <th>1</th>\n",
       "      <td>P_BAD0</td>\n",
       "      <td>8.0</td>\n",
       "      <td>Num</td>\n",
       "      <td>Predicted: BAD=0</td>\n",
       "    </tr>\n",
       "    <tr>\n",
       "      <th>2</th>\n",
       "      <td>I_BAD</td>\n",
       "      <td>32.0</td>\n",
       "      <td>Char</td>\n",
       "      <td>Into: BAD</td>\n",
       "    </tr>\n",
       "    <tr>\n",
       "      <th>3</th>\n",
       "      <td>_WARN_</td>\n",
       "      <td>4.0</td>\n",
       "      <td>Char</td>\n",
       "      <td>Warnings</td>\n",
       "    </tr>\n",
       "  </tbody>\n",
       "</table>\n",
       "</div>"
      ],
      "text/plain": [
       "Output Variables\n",
       "\n",
       "     Name  Length  Type             Label\n",
       "0  P_BAD1     8.0   Num  Predicted: BAD=1\n",
       "1  P_BAD0     8.0   Num  Predicted: BAD=0\n",
       "2   I_BAD    32.0  Char         Into: BAD\n",
       "3  _WARN_     4.0  Char          Warnings"
      ]
     },
     "execution_count": 48,
     "metadata": {},
     "output_type": "execute_result"
    }
   ],
   "source": [
    "deploysess.loadactionset('astore')\n",
    "deploysess.loadactionset('decisiontree')\n",
    "m = deploysess.describe(\n",
    "     rstore=dict(name='gb_model_astore',caslib='public') \n",
    "    )  \n",
    "m.OutputVariables\n"
   ]
  },
  {
   "cell_type": "code",
   "execution_count": 42,
   "metadata": {},
   "outputs": [
    {
     "name": "stdout",
     "output_type": "stream",
     "text": [
      "Key\n",
      "{\"Key\":{\"0\":\"5D070CDD907FCD9F5FFB8C85461DD61BBD714637\"}}\n",
      "Description\n",
      "{\"Attribute\":{\"0\":\"Analytic Engine\",\"1\":\"Time Created\"},\"Value\":{\"0\":\"gradboost\",\"1\":\"13Nov2017:17:52:35\"}}\n",
      "InputVariables\n",
      "{\"Name\":{\"0\":\"im_CLAGE\",\"1\":\"CLNO\",\"2\":\"im_DEBTINC\",\"3\":\"LOAN\",\"4\":\"MORTDUE\",\"5\":\"VALUE\",\"6\":\"im_YOJ\",\"7\":\"im_NINQ\",\"8\":\"DEROG\",\"9\":\"im_DELINQ\",\"10\":\"REASON\",\"11\":\"JOB\",\"12\":\"BAD\"},\"Length\":{\"0\":8.0,\"1\":8.0,\"2\":8.0,\"3\":8.0,\"4\":8.0,\"5\":8.0,\"6\":8.0,\"7\":8.0,\"8\":8.0,\"9\":8.0,\"10\":7.0,\"11\":7.0,\"12\":8.0},\"Role\":{\"0\":\"Input\",\"1\":\"Input\",\"2\":\"Input\",\"3\":\"Input\",\"4\":\"Input\",\"5\":\"Input\",\"6\":\"Input\",\"7\":\"Input\",\"8\":\"Input\",\"9\":\"Input\",\"10\":\"Input\",\"11\":\"Input\",\"12\":\"Target\"},\"Type\":{\"0\":\"Interval\",\"1\":\"Interval\",\"2\":\"Interval\",\"3\":\"Interval\",\"4\":\"Interval\",\"5\":\"Interval\",\"6\":\"Interval\",\"7\":\"Interval\",\"8\":\"Interval\",\"9\":\"Interval\",\"10\":\"Classification\",\"11\":\"Classification\",\"12\":\"Classification\"},\"RawType\":{\"0\":\"Num\",\"1\":\"Num\",\"2\":\"Num\",\"3\":\"Num\",\"4\":\"Num\",\"5\":\"Num\",\"6\":\"Num\",\"7\":\"Num\",\"8\":\"Num\",\"9\":\"Num\",\"10\":\"Char\",\"11\":\"Char\",\"12\":\"Num\"},\"FormatName\":{\"0\":\"\",\"1\":\"\",\"2\":\"\",\"3\":\"\",\"4\":\"\",\"5\":\"\",\"6\":\"\",\"7\":\"\",\"8\":\"\",\"9\":\"\",\"10\":\"\",\"11\":\"\",\"12\":\"\"}}\n",
      "OutputVariables\n",
      "{\"Name\":{\"0\":\"P_BAD1\",\"1\":\"P_BAD0\",\"2\":\"I_BAD\",\"3\":\"_WARN_\"},\"Length\":{\"0\":8.0,\"1\":8.0,\"2\":32.0,\"3\":4.0},\"Type\":{\"0\":\"Num\",\"1\":\"Num\",\"2\":\"Char\",\"3\":\"Char\"},\"Label\":{\"0\":\"Predicted: BAD=1\",\"1\":\"Predicted: BAD=0\",\"2\":\"Into: BAD\",\"3\":\"Warnings\"}}\n"
     ]
    }
   ],
   "source": [
    "import json\n",
    "import pandas as pd\n",
    "# j = json.load(dict(m))\n",
    "\n",
    "df = pd.DataFrame(m.InputVariables)\n",
    "df\n",
    "# m.InputVariables.to_json()\n",
    "for key, value in m.items(): \n",
    "    print(key)\n",
    "    print(value.to_json())"
   ]
  },
  {
   "cell_type": "markdown",
   "metadata": {},
   "source": [
    "#### [question]: exactly which model types can be saved as astore?"
   ]
  },
  {
   "cell_type": "markdown",
   "metadata": {},
   "source": [
    "### 4. Send a single record in for scoring to this astore model"
   ]
  },
  {
   "cell_type": "markdown",
   "metadata": {},
   "source": [
    "### optional: try a restful call to score a single record"
   ]
  }
 ],
 "metadata": {
  "kernelspec": {
   "display_name": "Python 3",
   "language": "python",
   "name": "python3"
  },
  "language_info": {
   "codemirror_mode": {
    "name": "ipython",
    "version": 3
   },
   "file_extension": ".py",
   "mimetype": "text/x-python",
   "name": "python",
   "nbconvert_exporter": "python",
   "pygments_lexer": "ipython3",
   "version": "3.6.2"
  }
 },
 "nbformat": 4,
 "nbformat_minor": 2
}
